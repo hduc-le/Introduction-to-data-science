{
  "nbformat": 4,
  "nbformat_minor": 0,
  "metadata": {
    "colab": {
      "provenance": []
    },
    "kernelspec": {
      "name": "python3",
      "display_name": "Python 3"
    },
    "language_info": {
      "name": "python"
    }
  },
  "cells": [
    {
      "cell_type": "markdown",
      "source": [
        "[![Open in Colab](https://colab.research.google.com/assets/colab-badge.svg)](https://colab.research.google.com/drive/1RTTgkDdDDkPdZd6vt4MoCV66BRbWgcRx?usp=sharing)\n",
        "\n",
        "# K-Means Clustering Algorithm"
      ],
      "metadata": {
        "id": "2zW0OBJPz7_Y"
      }
    },
    {
      "cell_type": "code",
      "execution_count": 1,
      "metadata": {
        "id": "B3bEHkC2QEWI"
      },
      "outputs": [],
      "source": [
        "import numpy as np\n",
        "import pandas as pd"
      ]
    },
    {
      "cell_type": "code",
      "source": [
        "data = pd.read_csv('https://archive.ics.uci.edu/ml/machine-learning-databases/wine/wine.data', header=None)"
      ],
      "metadata": {
        "id": "2WlTjZalQ5z2"
      },
      "execution_count": 2,
      "outputs": []
    },
    {
      "cell_type": "code",
      "source": [
        "data.head()"
      ],
      "metadata": {
        "colab": {
          "base_uri": "https://localhost:8080/",
          "height": 206
        },
        "id": "KP-RWPuvRLIh",
        "outputId": "dd91e0ab-f67a-4427-bd90-ed31bd0508bd"
      },
      "execution_count": 3,
      "outputs": [
        {
          "output_type": "execute_result",
          "data": {
            "text/plain": [
              "   0      1     2     3     4    5     6     7     8     9     10    11    12  \\\n",
              "0   1  14.23  1.71  2.43  15.6  127  2.80  3.06  0.28  2.29  5.64  1.04  3.92   \n",
              "1   1  13.20  1.78  2.14  11.2  100  2.65  2.76  0.26  1.28  4.38  1.05  3.40   \n",
              "2   1  13.16  2.36  2.67  18.6  101  2.80  3.24  0.30  2.81  5.68  1.03  3.17   \n",
              "3   1  14.37  1.95  2.50  16.8  113  3.85  3.49  0.24  2.18  7.80  0.86  3.45   \n",
              "4   1  13.24  2.59  2.87  21.0  118  2.80  2.69  0.39  1.82  4.32  1.04  2.93   \n",
              "\n",
              "     13  \n",
              "0  1065  \n",
              "1  1050  \n",
              "2  1185  \n",
              "3  1480  \n",
              "4   735  "
            ],
            "text/html": [
              "\n",
              "  <div id=\"df-d7602634-c0a5-464f-a0f1-389b94e31d95\">\n",
              "    <div class=\"colab-df-container\">\n",
              "      <div>\n",
              "<style scoped>\n",
              "    .dataframe tbody tr th:only-of-type {\n",
              "        vertical-align: middle;\n",
              "    }\n",
              "\n",
              "    .dataframe tbody tr th {\n",
              "        vertical-align: top;\n",
              "    }\n",
              "\n",
              "    .dataframe thead th {\n",
              "        text-align: right;\n",
              "    }\n",
              "</style>\n",
              "<table border=\"1\" class=\"dataframe\">\n",
              "  <thead>\n",
              "    <tr style=\"text-align: right;\">\n",
              "      <th></th>\n",
              "      <th>0</th>\n",
              "      <th>1</th>\n",
              "      <th>2</th>\n",
              "      <th>3</th>\n",
              "      <th>4</th>\n",
              "      <th>5</th>\n",
              "      <th>6</th>\n",
              "      <th>7</th>\n",
              "      <th>8</th>\n",
              "      <th>9</th>\n",
              "      <th>10</th>\n",
              "      <th>11</th>\n",
              "      <th>12</th>\n",
              "      <th>13</th>\n",
              "    </tr>\n",
              "  </thead>\n",
              "  <tbody>\n",
              "    <tr>\n",
              "      <th>0</th>\n",
              "      <td>1</td>\n",
              "      <td>14.23</td>\n",
              "      <td>1.71</td>\n",
              "      <td>2.43</td>\n",
              "      <td>15.6</td>\n",
              "      <td>127</td>\n",
              "      <td>2.80</td>\n",
              "      <td>3.06</td>\n",
              "      <td>0.28</td>\n",
              "      <td>2.29</td>\n",
              "      <td>5.64</td>\n",
              "      <td>1.04</td>\n",
              "      <td>3.92</td>\n",
              "      <td>1065</td>\n",
              "    </tr>\n",
              "    <tr>\n",
              "      <th>1</th>\n",
              "      <td>1</td>\n",
              "      <td>13.20</td>\n",
              "      <td>1.78</td>\n",
              "      <td>2.14</td>\n",
              "      <td>11.2</td>\n",
              "      <td>100</td>\n",
              "      <td>2.65</td>\n",
              "      <td>2.76</td>\n",
              "      <td>0.26</td>\n",
              "      <td>1.28</td>\n",
              "      <td>4.38</td>\n",
              "      <td>1.05</td>\n",
              "      <td>3.40</td>\n",
              "      <td>1050</td>\n",
              "    </tr>\n",
              "    <tr>\n",
              "      <th>2</th>\n",
              "      <td>1</td>\n",
              "      <td>13.16</td>\n",
              "      <td>2.36</td>\n",
              "      <td>2.67</td>\n",
              "      <td>18.6</td>\n",
              "      <td>101</td>\n",
              "      <td>2.80</td>\n",
              "      <td>3.24</td>\n",
              "      <td>0.30</td>\n",
              "      <td>2.81</td>\n",
              "      <td>5.68</td>\n",
              "      <td>1.03</td>\n",
              "      <td>3.17</td>\n",
              "      <td>1185</td>\n",
              "    </tr>\n",
              "    <tr>\n",
              "      <th>3</th>\n",
              "      <td>1</td>\n",
              "      <td>14.37</td>\n",
              "      <td>1.95</td>\n",
              "      <td>2.50</td>\n",
              "      <td>16.8</td>\n",
              "      <td>113</td>\n",
              "      <td>3.85</td>\n",
              "      <td>3.49</td>\n",
              "      <td>0.24</td>\n",
              "      <td>2.18</td>\n",
              "      <td>7.80</td>\n",
              "      <td>0.86</td>\n",
              "      <td>3.45</td>\n",
              "      <td>1480</td>\n",
              "    </tr>\n",
              "    <tr>\n",
              "      <th>4</th>\n",
              "      <td>1</td>\n",
              "      <td>13.24</td>\n",
              "      <td>2.59</td>\n",
              "      <td>2.87</td>\n",
              "      <td>21.0</td>\n",
              "      <td>118</td>\n",
              "      <td>2.80</td>\n",
              "      <td>2.69</td>\n",
              "      <td>0.39</td>\n",
              "      <td>1.82</td>\n",
              "      <td>4.32</td>\n",
              "      <td>1.04</td>\n",
              "      <td>2.93</td>\n",
              "      <td>735</td>\n",
              "    </tr>\n",
              "  </tbody>\n",
              "</table>\n",
              "</div>\n",
              "      <button class=\"colab-df-convert\" onclick=\"convertToInteractive('df-d7602634-c0a5-464f-a0f1-389b94e31d95')\"\n",
              "              title=\"Convert this dataframe to an interactive table.\"\n",
              "              style=\"display:none;\">\n",
              "        \n",
              "  <svg xmlns=\"http://www.w3.org/2000/svg\" height=\"24px\"viewBox=\"0 0 24 24\"\n",
              "       width=\"24px\">\n",
              "    <path d=\"M0 0h24v24H0V0z\" fill=\"none\"/>\n",
              "    <path d=\"M18.56 5.44l.94 2.06.94-2.06 2.06-.94-2.06-.94-.94-2.06-.94 2.06-2.06.94zm-11 1L8.5 8.5l.94-2.06 2.06-.94-2.06-.94L8.5 2.5l-.94 2.06-2.06.94zm10 10l.94 2.06.94-2.06 2.06-.94-2.06-.94-.94-2.06-.94 2.06-2.06.94z\"/><path d=\"M17.41 7.96l-1.37-1.37c-.4-.4-.92-.59-1.43-.59-.52 0-1.04.2-1.43.59L10.3 9.45l-7.72 7.72c-.78.78-.78 2.05 0 2.83L4 21.41c.39.39.9.59 1.41.59.51 0 1.02-.2 1.41-.59l7.78-7.78 2.81-2.81c.8-.78.8-2.07 0-2.86zM5.41 20L4 18.59l7.72-7.72 1.47 1.35L5.41 20z\"/>\n",
              "  </svg>\n",
              "      </button>\n",
              "      \n",
              "  <style>\n",
              "    .colab-df-container {\n",
              "      display:flex;\n",
              "      flex-wrap:wrap;\n",
              "      gap: 12px;\n",
              "    }\n",
              "\n",
              "    .colab-df-convert {\n",
              "      background-color: #E8F0FE;\n",
              "      border: none;\n",
              "      border-radius: 50%;\n",
              "      cursor: pointer;\n",
              "      display: none;\n",
              "      fill: #1967D2;\n",
              "      height: 32px;\n",
              "      padding: 0 0 0 0;\n",
              "      width: 32px;\n",
              "    }\n",
              "\n",
              "    .colab-df-convert:hover {\n",
              "      background-color: #E2EBFA;\n",
              "      box-shadow: 0px 1px 2px rgba(60, 64, 67, 0.3), 0px 1px 3px 1px rgba(60, 64, 67, 0.15);\n",
              "      fill: #174EA6;\n",
              "    }\n",
              "\n",
              "    [theme=dark] .colab-df-convert {\n",
              "      background-color: #3B4455;\n",
              "      fill: #D2E3FC;\n",
              "    }\n",
              "\n",
              "    [theme=dark] .colab-df-convert:hover {\n",
              "      background-color: #434B5C;\n",
              "      box-shadow: 0px 1px 3px 1px rgba(0, 0, 0, 0.15);\n",
              "      filter: drop-shadow(0px 1px 2px rgba(0, 0, 0, 0.3));\n",
              "      fill: #FFFFFF;\n",
              "    }\n",
              "  </style>\n",
              "\n",
              "      <script>\n",
              "        const buttonEl =\n",
              "          document.querySelector('#df-d7602634-c0a5-464f-a0f1-389b94e31d95 button.colab-df-convert');\n",
              "        buttonEl.style.display =\n",
              "          google.colab.kernel.accessAllowed ? 'block' : 'none';\n",
              "\n",
              "        async function convertToInteractive(key) {\n",
              "          const element = document.querySelector('#df-d7602634-c0a5-464f-a0f1-389b94e31d95');\n",
              "          const dataTable =\n",
              "            await google.colab.kernel.invokeFunction('convertToInteractive',\n",
              "                                                     [key], {});\n",
              "          if (!dataTable) return;\n",
              "\n",
              "          const docLinkHtml = 'Like what you see? Visit the ' +\n",
              "            '<a target=\"_blank\" href=https://colab.research.google.com/notebooks/data_table.ipynb>data table notebook</a>'\n",
              "            + ' to learn more about interactive tables.';\n",
              "          element.innerHTML = '';\n",
              "          dataTable['output_type'] = 'display_data';\n",
              "          await google.colab.output.renderOutput(dataTable, element);\n",
              "          const docLink = document.createElement('div');\n",
              "          docLink.innerHTML = docLinkHtml;\n",
              "          element.appendChild(docLink);\n",
              "        }\n",
              "      </script>\n",
              "    </div>\n",
              "  </div>\n",
              "  "
            ]
          },
          "metadata": {},
          "execution_count": 3
        }
      ]
    },
    {
      "cell_type": "code",
      "source": [
        "X, y = data.iloc[:, 1:].values, data.iloc[:, 0].values"
      ],
      "metadata": {
        "id": "tR5UK4veRLt5"
      },
      "execution_count": 4,
      "outputs": []
    },
    {
      "cell_type": "code",
      "source": [
        "N, d = X.shape\n",
        "print(\"Num. samples: \", N)\n",
        "print(\"Num. features/variables: \", d)"
      ],
      "metadata": {
        "colab": {
          "base_uri": "https://localhost:8080/"
        },
        "id": "L-dyh2S1RU5R",
        "outputId": "f9f4756a-b01b-4f0b-fdc6-8e806d0083d9"
      },
      "execution_count": 5,
      "outputs": [
        {
          "output_type": "stream",
          "name": "stdout",
          "text": [
            "Num. samples:  178\n",
            "Num. features/variables:  13\n"
          ]
        }
      ]
    },
    {
      "cell_type": "code",
      "source": [
        "# Hyper-parameters\n",
        "K_CLUSTERS = 3 # << N "
      ],
      "metadata": {
        "id": "_8wWavZmRXMv"
      },
      "execution_count": 6,
      "outputs": []
    },
    {
      "cell_type": "code",
      "source": [
        "import random\n",
        "# random K-samples to be centroids\n",
        "k_indices = random.sample(range(0, N), K_CLUSTERS)\n",
        "centroids = X[k_indices]    # shape: (K, d)\n",
        "print(centroids.shape); print(centroids)"
      ],
      "metadata": {
        "colab": {
          "base_uri": "https://localhost:8080/"
        },
        "id": "t_eBjzZCRl0_",
        "outputId": "f1cc9487-c44d-4276-c951-83837f03e3f2"
      },
      "execution_count": 7,
      "outputs": [
        {
          "output_type": "stream",
          "name": "stdout",
          "text": [
            "(3, 13)\n",
            "[[1.184e+01 8.900e-01 2.580e+00 1.800e+01 9.400e+01 2.200e+00 2.210e+00\n",
            "  2.200e-01 2.350e+00 3.050e+00 7.900e-01 3.080e+00 5.200e+02]\n",
            " [1.423e+01 1.710e+00 2.430e+00 1.560e+01 1.270e+02 2.800e+00 3.060e+00\n",
            "  2.800e-01 2.290e+00 5.640e+00 1.040e+00 3.920e+00 1.065e+03]\n",
            " [1.161e+01 1.350e+00 2.700e+00 2.000e+01 9.400e+01 2.740e+00 2.920e+00\n",
            "  2.900e-01 2.490e+00 2.650e+00 9.600e-01 3.260e+00 6.800e+02]]\n"
          ]
        }
      ]
    },
    {
      "cell_type": "code",
      "source": [
        "# Remark\n",
        "from scipy.spatial import distance \n",
        "A = np.array([[1, 2],\n",
        "              [0, 3],\n",
        "              [1, 4]])\n",
        "\n",
        "B = np.array([[1, -1],\n",
        "              [2, -1]])\n",
        "\n",
        "C = distance.cdist(A, B) # euclidean distance, distance(x,y) = ||x-y||\n",
        "\n",
        "# C[0,0] = 3. = ||[1, 2] - [1, -1]||\n",
        "# C[0,1] = 3.1622 = ||[1, 2] - [2, -1]||\n",
        "# C[1,0] = 4.12 = ||[0, 3] - [1, -1]||\n",
        "# C[1,1] = ..."
      ],
      "metadata": {
        "colab": {
          "base_uri": "https://localhost:8080/"
        },
        "id": "JusDgjxQSVm4",
        "outputId": "63f7c7c3-6ef6-4b29-b813-f140c270c2c7"
      },
      "execution_count": 8,
      "outputs": [
        {
          "output_type": "execute_result",
          "data": {
            "text/plain": [
              "array([[3.        , 3.16227766],\n",
              "       [4.12310563, 4.47213595],\n",
              "       [5.        , 5.09901951]])"
            ]
          },
          "metadata": {},
          "execution_count": 8
        }
      ]
    },
    {
      "cell_type": "code",
      "source": [
        "        #k=    0  1  2\n",
        "D = np.array([[1, 0, 3],   # x_1 y_1 = 1\n",
        "              [-1, 2, 1]]) # x_2 y_2 = 0\n",
        "\n",
        "np.argmin(D, axis=1)"
      ],
      "metadata": {
        "colab": {
          "base_uri": "https://localhost:8080/"
        },
        "id": "F-2EBMxopoLl",
        "outputId": "dd136280-a335-4507-adcb-579d02bd5f84"
      },
      "execution_count": 31,
      "outputs": [
        {
          "output_type": "execute_result",
          "data": {
            "text/plain": [
              "array([1, 0])"
            ]
          },
          "metadata": {},
          "execution_count": 31
        }
      ]
    },
    {
      "cell_type": "code",
      "source": [
        "# helpers \n",
        "def assign_cluster(distances: np.ndarray) -> np.ndarray:\n",
        "    # distances: (N, K)\n",
        "    # \n",
        "    return np.argmin(distances, axis=1)\n",
        "\n",
        "def has_convert(pre_labels: np.ndarray, cur_labels: np.ndarray) -> bool:\n",
        "    return (pre_labels == cur_labels).all()\n",
        "\n",
        "def update_centroids(X, labels):\n",
        "    new_centroids = np.array([X[labels == k].mean(axis=0) for k in range(K_CLUSTERS)])\n",
        "    return new_centroids # (3, 13)\n",
        "\n",
        "def get_total_wcv(X, labels, centroids):\n",
        "    # Total within cluster variance\n",
        "    WCVs = [\n",
        "        np.sum(np.linalg.norm(X[labels == k] - centroids[k], axis=1) ** 2) \\\n",
        "        for k in range(K_CLUSTERS)\n",
        "    ]\n",
        "    return np.sum(WCVs)"
      ],
      "metadata": {
        "id": "upkzSIc3TqLt"
      },
      "execution_count": 9,
      "outputs": []
    },
    {
      "cell_type": "markdown",
      "source": [
        "# K-mean Algorithm"
      ],
      "metadata": {
        "id": "vouE1Q8DcxmE"
      }
    },
    {
      "cell_type": "code",
      "source": [
        "# initialize labels\n",
        "pre_labels = np.zeros((N, 1))\n",
        "\n",
        "# training\n",
        "it = 0\n",
        "while True:\n",
        "    # compute distances from X_i to\n",
        "    distances = distance.cdist(X, centroids) # shape: (N, K)\n",
        "    # assign new labels\n",
        "    labels = assign_cluster(distances) # [0, 0, 1, 0, ..., 2, 1, 0, 1]\n",
        "    # check convergence\n",
        "    if has_convert(pre_labels, labels):\n",
        "        break\n",
        "    # compute total within cluster variance\n",
        "    wcv = get_total_wcv(X, labels, centroids)\n",
        "    print(f\">> iters: {it} - wcv: {wcv}\")\n",
        "    # update centroids\n",
        "    centroids = update_centroids(X, labels) # 0->(x_i s.t y_i == 0).mean(), # 1->(x_i s.t y_i == 1).mean()\n",
        "    # update old labels\n",
        "    pre_labels = labels\n",
        "\n",
        "    it += 1"
      ],
      "metadata": {
        "colab": {
          "base_uri": "https://localhost:8080/"
        },
        "id": "HPdNq6xPSD5z",
        "outputId": "3f1028f3-813e-440b-8ff4-eb09704c0234"
      },
      "execution_count": 10,
      "outputs": [
        {
          "output_type": "stream",
          "name": "stdout",
          "text": [
            ">> iters: 0 - wcv: 3453506.2092023\n",
            ">> iters: 1 - wcv: 2460050.653843892\n",
            ">> iters: 2 - wcv: 2374051.395868793\n",
            ">> iters: 3 - wcv: 2371249.446583612\n"
          ]
        }
      ]
    },
    {
      "cell_type": "code",
      "source": [
        "# compute total within cluster variance\n",
        "wcv = get_total_wcv(X, labels, centroids)\n",
        "wcv"
      ],
      "metadata": {
        "id": "C0Irg_RKeYW6"
      },
      "execution_count": 11,
      "outputs": []
    },
    {
      "cell_type": "code",
      "source": [
        "centroids"
      ],
      "metadata": {
        "colab": {
          "base_uri": "https://localhost:8080/"
        },
        "id": "tNoj02I6WahQ",
        "outputId": "4df91926-7a42-44c4-c72b-16e4c1eca48e"
      },
      "execution_count": 12,
      "outputs": [
        {
          "output_type": "execute_result",
          "data": {
            "text/plain": [
              "array([[1.25166667e+01, 2.49420290e+00, 2.28855072e+00, 2.08231884e+01,\n",
              "        9.23478261e+01, 2.07072464e+00, 1.75840580e+00, 3.90144928e-01,\n",
              "        1.45188406e+00, 4.08695651e+00, 9.41159420e-01, 2.49072464e+00,\n",
              "        4.58231884e+02],\n",
              "       [1.38044681e+01, 1.88340426e+00, 2.42617021e+00, 1.70234043e+01,\n",
              "        1.05510638e+02, 2.86723404e+00, 3.01425532e+00, 2.85319149e-01,\n",
              "        1.91042553e+00, 5.70255319e+00, 1.07829787e+00, 3.11404255e+00,\n",
              "        1.19514894e+03],\n",
              "       [1.29298387e+01, 2.50403226e+00, 2.40806452e+00, 1.98903226e+01,\n",
              "        1.03596774e+02, 2.11112903e+00, 1.58403226e+00, 3.88387097e-01,\n",
              "        1.50338710e+00, 5.65032258e+00, 8.83967742e-01, 2.36548387e+00,\n",
              "        7.28338710e+02]])"
            ]
          },
          "metadata": {},
          "execution_count": 12
        }
      ]
    },
    {
      "cell_type": "code",
      "source": [
        "import numpy as np\n",
        "import pandas as pd\n",
        "import random\n",
        "import matplotlib.pyplot as plt\n",
        "from scipy.spatial import distance\n",
        "\n",
        "class KMeansClustering:\n",
        "    \"\"\"\n",
        "        An instance of K-Means Clustering algorithm\n",
        "    \"\"\"\n",
        "    def __init__(self, n_clusters=8):\n",
        "        \"\"\"\n",
        "            n_clusters: number of clusters\n",
        "            _centroids: center/ centroid of clusters\n",
        "            inertia_: sum of squared distances of samples to their closest cluster center\n",
        "            labels_: labels of input samples\n",
        "            X: input data\n",
        "        \"\"\"\n",
        "        self.n_clusters = n_clusters\n",
        "    \n",
        "    def fit(self, X: np.ndarray) -> None:\n",
        "        N, p = X.shape\n",
        "        self.X = X\n",
        "\n",
        "        # random K-samples to be centroids\n",
        "        k_indices = random.sample(range(0, N), self.n_clusters)\n",
        "        self._centroids = self.X[k_indices]\n",
        "\n",
        "        # initialize labels\n",
        "        pre_labels = np.zeros((N, 1))\n",
        "\n",
        "        # training\n",
        "        it = 0\n",
        "        while True:\n",
        "            # compute distances from X_i to\n",
        "            distances = self._calc_dists(self.X, self._centroids)\n",
        "            # assign new labels\n",
        "            self.labels_ = self._assign_cluster(distances)  # assign new labels\n",
        "            # check convergence\n",
        "            if self._has_convert(pre_labels, self.labels_):\n",
        "                break\n",
        "            # update centroids\n",
        "            self._update_centroids(self.X, self.labels_)\n",
        "            pre_labels = self.labels_\n",
        "            it += 1\n",
        "\n",
        "        # compute total Within Cluster Variance (WCV)\n",
        "        self.inertia_ = self._calc_total_WCV(self.X, self.labels_, self._centroids)\n",
        "\n",
        "    def _calc_dists(self, X, centroids):\n",
        "        return distance.cdist(X, centroids, \"euclidean\")\n",
        "\n",
        "    def _assign_cluster(self, distances):\n",
        "        return np.argmin(distances, axis=1)\n",
        "\n",
        "    def _update_centroids(self, X, labels):\n",
        "        self._centroids = np.array(\n",
        "            [X[labels == k].mean(axis=0) for k in range(self.n_clusters)]\n",
        "        )\n",
        "\n",
        "    def _calc_total_WCV(self, X, labels, centroids):\n",
        "        WCVs = [\n",
        "            np.sum(np.linalg.norm(X[labels == k] - centroids[k], axis=1) ** 2)\n",
        "            for k in range(self.n_clusters)\n",
        "        ]\n",
        "        return np.sum(WCVs)\n",
        "\n",
        "    def _has_convert(self, pre_labels, cur_labels):\n",
        "        return (pre_labels == cur_labels).all()\n",
        "\n",
        "    def _predict(self, X_test):\n",
        "        dist_test = self._calc_dists(X_test, self._centroids)\n",
        "        test_labels = self._assign_cluster(dist_test)\n",
        "        return test_labels\n",
        "\n",
        "    def predict(self, X_test):\n",
        "        return self._predict(X_test)"
      ],
      "metadata": {
        "id": "dH_gpuwkeEDO"
      },
      "execution_count": 21,
      "outputs": []
    },
    {
      "cell_type": "code",
      "source": [
        "def elbow_method(X, k_clusters=[1, 3, 5, 7, 9]):\n",
        "    total_wcss = []\n",
        "    for k in k_clusters:\n",
        "        kmeans_model = KMeansClustering(n_clusters=k)\n",
        "        kmeans_model.fit(X)\n",
        "        total_wcss.append(kmeans_model.inertia_)\n",
        "\n",
        "    plt.figure()\n",
        "    plt.plot(k_clusters, total_wcss, marker='o', color='r')\n",
        "    plt.ylabel('Total WSS')\n",
        "    plt.xlabel('Number of cluster')\n",
        "    plt.show()"
      ],
      "metadata": {
        "id": "usBxzp6Wd0xd"
      },
      "execution_count": 24,
      "outputs": []
    },
    {
      "cell_type": "code",
      "source": [
        "elbow_method(X)"
      ],
      "metadata": {
        "colab": {
          "base_uri": "https://localhost:8080/",
          "height": 465
        },
        "id": "4c_x1PGce9GM",
        "outputId": "10975065-7f5f-4bfa-f729-8242e4f7adb0"
      },
      "execution_count": 25,
      "outputs": [
        {
          "output_type": "display_data",
          "data": {
            "text/plain": [
              "<Figure size 640x480 with 1 Axes>"
            ],
            "image/png": "[encoded data removed]"
          },
          "metadata": {}
        }
      ]
    },
    {
      "cell_type": "code",
      "source": [
        "# Perform PCA for dimension reduction in order to visualize outcome.\n",
        "from sklearn.decomposition import PCA\n",
        "pca = PCA(n_components=3)\n",
        "X_pca = pca.fit_transform(X)\n",
        "\n",
        "print('Explained variance ratio of the chosen components:\\n', np.cumsum(pca.explained_variance_ratio_))"
      ],
      "metadata": {
        "colab": {
          "base_uri": "https://localhost:8080/"
        },
        "id": "4zWkl1llXFnO",
        "outputId": "824d4855-4706-4525-b133-1b7b68ef0220"
      },
      "execution_count": null,
      "outputs": [
        {
          "output_type": "stream",
          "name": "stdout",
          "text": [
            "Explained variance ratio of the chosen components:\n",
            " [0.99809123 0.99982715 0.99992211]\n"
          ]
        }
      ]
    },
    {
      "cell_type": "code",
      "source": [
        "# 2D visualization\n",
        "for k in range(K_CLUSTERS):\n",
        "    plt.scatter(X_pca[labels == k, :][:, 0], X_pca[labels == k, :][:, 1])\n",
        "plt.show()"
      ],
      "metadata": {
        "colab": {
          "base_uri": "https://localhost:8080/",
          "height": 430
        },
        "id": "6ZtABG2jXx6H",
        "outputId": "38a671cc-fe16-4143-810c-6932964ac45a"
      },
      "execution_count": null,
      "outputs": [
        {
          "output_type": "display_data",
          "data": {
            "text/plain": [
              "<Figure size 640x480 with 1 Axes>"
            ],
            "image/png": "[encoded data removed]"
          },
          "metadata": {}
        }
      ]
    },
    {
      "cell_type": "code",
      "source": [
        "# 3D visualization\n",
        "\n",
        "import matplotlib.pyplot as plt\n",
        "import plotly.express as px # package for 3D visualization\n",
        "# scatter with predicted clusters\n",
        "fig = px.scatter_3d(X_pca, \n",
        "                    x=X_pca[:,0], \n",
        "                    y=X_pca[:,1], \n",
        "                    z=X_pca[:,2], \n",
        "                    color=labels, \n",
        "                    width=800, \n",
        "                    height=400)\n",
        "# tight layout\n",
        "fig.update_layout(margin=dict(l=0, r=0, b=0, t=0))\n",
        "fig.show()"
      ],
      "metadata": {
        "colab": {
          "base_uri": "https://localhost:8080/",
          "height": 417
        },
        "id": "4JQhbj7iXIFM",
        "outputId": "337755b7-0b23-44ad-c4af-c300200a0d6b"
      },
      "execution_count": null,
      "outputs": [
        {
          "output_type": "display_data",
          "data": {
            "text/html": [
              "<html>\n",
              "<head><meta charset=\"utf-8\" /></head>\n",
              "<body>\n",
              "    <div>            <script src=\"https://cdnjs.cloudflare.com/ajax/libs/mathjax/2.7.5/MathJax.js?config=TeX-AMS-MML_SVG\"></script><script type=\"text/javascript\">if (window.MathJax && window.MathJax.Hub && window.MathJax.Hub.Config) {window.MathJax.Hub.Config({SVG: {font: \"STIX-Web\"}});}</script>                <script type=\"text/javascript\">window.PlotlyConfig = {MathJaxConfig: 'local'};</script>\n",
              "        <script src=\"https://cdn.plot.ly/plotly-2.18.2.min.js\"></script>                <div id=\"d0f98f72-2b10-4e6a-a026-df3a16ded404\" class=\"plotly-graph-div\" style=\"height:400px; width:800px;\"></div>            <script type=\"text/javascript\">                                    window.PLOTLYENV=window.PLOTLYENV || {};                                    if (document.getElementById(\"d0f98f72-2b10-4e6a-a026-df3a16ded404\")) {                    Plotly.newPlot(                        \"d0f98f72-2b10-4e6a-a026-df3a16ded404\",                        [{\"hovertemplate\":\"x=%{x}<br>y=%{y}<br>z=%{z}<br>color=%{marker.color}<extra></extra>\",\"legendgroup\":\"\",\"marker\":{\"color\":[1,1,1,1,0,1,1,1,1,1,1,1,1,1,1,1,1,1,1,0,0,0,1,1,0,0,1,1,0,1,1,1,1,1,1,0,0,1,1,0,0,1,1,0,0,1,1,1,1,1,1,1,1,1,1,1,1,1,1,2,0,2,0,2,2,0,2,2,0,0,0,2,2,1,0,2,2,2,0,2,2,0,0,2,2,2,2,2,0,0,2,2,2,2,2,0,0,2,0,2,0,2,2,2,0,2,2,2,2,0,2,2,0,2,2,2,2,2,2,2,0,2,2,2,2,2,2,2,2,2,0,2,2,0,0,0,0,2,2,2,0,0,2,2,0,0,2,0,0,2,2,2,2,0,0,0,2,0,0,0,2,0,2,0,0,2,0,0,0,0,2,2,0,0,0,0,0,2],\"coloraxis\":\"coloraxis\",\"symbol\":\"circle\"},\"mode\":\"markers\",\"name\":\"\",\"scene\":\"scene\",\"showlegend\":false,\"x\":[318.5629792879361,303.09741965938656,438.0611329172362,733.2401393508115,-11.571428495905783,703.231191737722,542.9715808665927,548.4018598404368,298.03686280061174,298.04955313546816,763.0797119412471,532.9432277319978,572.8344103911645,402.925358286097,800.0533938569718,563.2455779988175,533.3796506359125,383.3175910772751,933.1183874996057,98.40317747596023,33.59359400185366,23.146437540271194,288.09303021740453,267.9815125349914,98.01988577277815,83.49874396134189,447.92559622234256,537.9191650213771,168.21046760464952,288.0082470812645,538.0264521021904,768.0929388553866,243.15075090189157,488.60128004523574,348.23100699681953,173.07995742609629,133.28642354659155,358.01855917526643,273.0444315214037,13.643002113365283,48.42964224993002,287.8840921689911,348.0953481804467,-66.81465538610264,138.22700988344207,333.25480582916657,318.11184846663883,238.11148507872252,313.1199153878397,513.187748021228,402.93901715897346,517.9289632654716,443.26641129493294,628.2860709851129,313.39761267563216,373.33329122237984,223.41710635795053,523.072851396616,538.182097322943,-227.03269045249664,-66.85012199724899,-296.82443689141553,-116.970472581858,-327.05912559515144,-391.75248643604994,-68.90576044269498,-245.21252397707903,-237.2414102925168,3.2961559909800107,-27.966120730539302,123.130138308563,-337.10412248801345,-275.0960258796879,238.71675654886113,139.09405663995778,-318.8763289023295,-355.0602525141372,-246.63359745191576,3.771689655532805,-283.8422476447662,-469.0593503092665,-33.131339246156244,-117.29039200980706,-232.13298838412305,-226.95329942011855,-296.85215173438576,-252.04639192844036,-185.1088573734927,-67.18075184447473,-122.43132640120484,-267.1853332030436,-297.10441467528636,-252.21388507177033,-457.02221494219657,-401.8512740899959,191.18339677250663,-121.27917775374146,-319.0882728046858,-87.0802925612984,-341.0409001673489,-36.931614550998184,-185.07371349407924,-308.882386612496,-332.0892963829008,-75.15313775202645,-432.00974192285344,-237.20669708725697,-259.1483677337963,-434.9577801123811,-66.9906957701296,-184.73643852532723,-422.0428736248791,-139.81866316131354,-313.060948162897,-362.12963311360664,-340.11500621424557,-252.10947206109924,-401.6959734817672,-375.17109236646615,-183.0979291819102,-121.94524134844434,-281.5345691197325,-381.82677823426366,-367.0893800459942,-367.15717469661223,-369.1036009666214,-395.0788364569409,-281.03036870910114,-405.0612878028858,-167.23764181767575,-116.47300035905556,-216.78453997810755,-186.91511196560174,-146.76952962486226,-97.13297359792641,-51.98204686718354,-27.097930749853194,-231.95153407062077,-167.07624576452392,-156.86804454285758,-146.9464895805512,32.904292748895735,-226.92620968566456,-197.0043474940198,108.31267730325999,83.11826261248189,-332.1958399900888,-122.12609208783434,-97.01938926807355,-196.6248066040508,-246.44919923184162,-266.6287880497012,-321.5707409351809,-71.89765870622588,-106.81661780127254,-22.0202567985288,-267.0317323055761,132.99984125218964,-86.91399859078072,-127.06128965116459,-227.06883575173458,-66.75543117637734,-176.76509842511697,-71.76839793240181,-132.04824836043474,-227.07784455326023,-51.68950645984445,-62.085011124303904,3.182764653492889,-116.67481804945257,-236.9212079418377,-277.0835782560392,-87.02740263137348,-6.980210958028525,3.131604678755341,88.45807368612964,93.45624185410914,-186.9431902731094],\"y\":[21.492130734540016,-5.364717683064043,-6.5373094494400386,0.19272903207213815,18.48999460836035,-0.3321586742532804,-13.518966641596878,11.449432383558477,-8.180157835408329,-7.101542937561732,-8.334317226298758,-14.287633770471396,-21.005014330071102,-16.102635218597186,-12.118447191589325,2.214828664086273,10.804802233662498,8.477419817562929,-8.354478439743353,14.392659413302272,25.567956497752526,1.8174730862651187,-3.9630417496650265,-9.570704013405836,-5.495846062188409,22.891621549959417,-14.797331250759305,-15.38834606502355,4.255310963149661,-8.959731549015746,-8.212738820938172,-7.379897374639953,-0.14391492761481187,23.565325043240634,4.038080148998221,-2.792921649776867,7.7727295753494445,-8.15798411812405,-6.725074307758921,27.846832147749094,16.321949760522184,-14.885118535217178,-5.043426088455578,4.384829918309577,4.7306883598040335,5.319331158248507,-3.4869449391169325,-3.051521001293951,-2.3053631635876317,-0.8637592352155271,-15.053302848806698,-14.997554888546452,3.2605020440732755,4.041145380795893,12.608913514882222,9.664198626315423,14.216892411736985,-7.096625255912908,-1.3567801281016327,-7.994967969134493,2.3198665362225643,5.468475698009883,-3.726383423155161,-6.948130808142178,11.171678256222838,-0.5586205371241992,-17.49363929942056,-17.531025550918,10.095811600653018,51.6301251859264,1.0598345145506733,-7.623855122175793,-7.753152131800828,35.25182736823364,-1.2074761987360063,2.8107711323253106,-7.530701831829731,16.55843665055839,36.03109236303351,6.361860804858208,-5.458923979087498,-13.1871049572164,-19.57861246799193,-10.530103259648028,-1.7760587915564798,4.452803088679306,-5.212617588104986,-8.318582024009322,-14.524690218444066,-27.504038698491346,-14.053890086022562,-8.415031614551141,-15.251570245283126,-3.697337926777126,5.331400215799382,58.793762379561805,36.41751488931709,-9.193078195295874,-10.226572689125998,-5.750565586578913,-2.170415928046059,-8.520519018587828,3.7516565521730825,-7.8837287534396125,-13.413827944810862,-2.0329467337495393,-15.561967932903483,-11.078816347723375,-0.059526029524003446,-4.571457640410523,10.51646316056526,-4.244921941762491,5.735552074296898,-6.167094011040847,-9.259295397921367,-8.689734429642714,-9.275870146862678,15.425890267706615,-13.185050253814758,-9.553544319548783,-1.5888942780782438,24.508261186546683,9.18910975540572,-7.188215890256353,-11.196320221661288,-8.175804911790463,-6.679831873374486,-2.535860067717695,-4.451073669629211,-16.731185725058758,24.26602005979749,8.130449556224944,1.7100573556775918,8.920334113562182,-13.058283826880885,-4.812293096844395,-10.229996223962054,0.5349074098240334,-8.756723111031363,4.163162488055395,-1.0967289642032574,-11.305365635407657,1.3882783668811056,-4.228428695529215,10.351330443795755,0.806869695029081,-13.813298892465177,-11.469925859637058,-5.906442575323512,16.873113924850287,27.81009537953358,17.15023199752926,22.164340097201013,-0.39965639971936034,5.206123065088722,-6.22943925484083,-5.92308914400984,-4.867705439544274,0.07963577715360189,-8.291416841194463,-7.618630299434799,8.470289897435148,9.473190002016782,7.51063784125773,-7.255030312061554,-7.593379303886877,12.358084974597837,-10.554015295801586,5.391361501575996,14.533370347154206,0.463036997553171,-8.740331907970248,-7.10459574858172,-4.541136569158675,2.335190511328367,18.776284558356128,18.670819123425396,-0.21333080312165545],\"z\":[3.1307347048124377,6.822835495267986,-1.1132229813677688,-0.9172570156159516,-0.5544220764538614,0.9493753343135398,2.1269428292907553,0.04049242022917579,3.8809751711362006,1.558455326905512,-1.886290374669286,0.1303352395824397,0.3726148589301773,5.675139863234843,3.046529907044468,-0.52551098457103,-2.476527344013022,-1.9897450127087375,-1.9329127593190996,4.103746161566867,4.033586149690676,0.88716084091618,2.053713808520311,0.7584118315838454,-0.38729766079058325,-4.278836526584912,1.2198344514939703,0.1646923293421484,-0.1033844078107611,2.161498205662694,-5.1683962792082685,-3.229962413129037,1.680802728019921,-1.171626417596996,-0.4476749952054161,-1.5097919841869465,3.7192660754711664,0.07320060546611169,3.0347923708207776,6.64055072610891,3.3612101270787216,-0.8069365283241718,2.8389683690284095,2.3665429800657187,2.193165842062918,-0.7837581291546167,1.9938573800045438,2.2273271441802875,-0.8559035268130584,-0.9638927665023305,4.252680542396486,-0.29543347718325347,3.2253348673124957,-0.35793152753207724,2.0046993641622124,-2.2920457516603943,2.38786503818907,0.12928836917025138,0.23097851091684227,9.947131337767155,4.126899332646683,3.661755221543914,2.219998841499901,2.08570802852121,3.024744638723451,1.8950692219499576,4.993235932280135,0.656014227325035,3.2177922543832778,4.9994612811987755,-0.8110228828001258,-3.3355762596312926,-2.9311772376189116,-9.005075737158643,-1.1982546783342305,5.00732155064415,4.801951375096382,3.440159403620586,6.131874734582496,-1.3088627653246168,3.201314861820332,0.8942199036692953,-3.3971966275038215,-2.4301091101164976,3.090595879324334,3.6454550080961794,-1.4523108311782458,-4.8159312935868615,-1.4714870295045652,-3.080385961549053,2.343550415554176,-0.9727154519195658,-0.010559973631028249,4.01928491465816,3.843719805747649,2.3688115437712143,0.323171032959238,5.131485634540791,1.5397074203801917,3.480188977223777,2.590309581823776,2.2509767061181125,0.6457357499334242,2.041298468388408,-0.2694406099943543,-0.01297855204681875,1.5472466138607386,-1.5999728457364595,3.095052479157576,0.6490086918742907,1.7028908621079848,1.0798031835078428,0.5340291891297333,0.42958373868266375,-0.8390443466870972,0.3459305702058612,0.557705741865216,0.24785618801489964,4.609454691510664,1.9084831633534711,0.6556354295327405,-6.485045869937712,-4.133342046481065,-0.21865502663884678,0.36550887123892545,0.6398487191912713,0.06189455707246994,-6.785925299912554,-2.2072153631847518,-1.736879136954794,2.789249502173855,0.23992681020540543,-3.856146524097658,-1.3644812992645428,1.675857717858121,0.16073012239293086,-1.8376558359592061,-4.831493112676001,-0.1773776252684156,-3.7030765864158885,-1.0096025360789205,-1.3413769751850304,-2.9629536749922685,-0.12287404169148551,-0.4810854297583342,-1.7968429693435635,-0.17093583700298284,-3.000643710628031,-2.982826293556569,-2.253899631311593,-3.750749290530465,-2.683119263138771,-4.424342787525044,-0.7077531625493089,-0.733294017272639,-3.8648328232759366,-0.7032844576440145,-8.753798412442487,-7.171313675163066,-4.57728088756915,-1.8550854337306166,-0.5491365352489416,-1.8428729242424693,1.012225851264586,-3.663328099463397,-3.1040062972136533,-4.743612647166003,-1.942136043211381,-5.85723969069944,-5.7549565021895654,0.9701937431228059,-0.8396936183760285,-1.9605158219045427,-2.4747068615946186,-4.309930609696343,-2.2375765094484805,-1.7883915219577422,-5.630509838777158],\"type\":\"scatter3d\"}],                        {\"template\":{\"data\":{\"histogram2dcontour\":[{\"type\":\"histogram2dcontour\",\"colorbar\":{\"outlinewidth\":0,\"ticks\":\"\"},\"colorscale\":[[0.0,\"#0d0887\"],[0.1111111111111111,\"#46039f\"],[0.2222222222222222,\"#7201a8\"],[0.3333333333333333,\"#9c179e\"],[0.4444444444444444,\"#bd3786\"],[0.5555555555555556,\"#d8576b\"],[0.6666666666666666,\"#ed7953\"],[0.7777777777777778,\"#fb9f3a\"],[0.8888888888888888,\"#fdca26\"],[1.0,\"#f0f921\"]]}],\"choropleth\":[{\"type\":\"choropleth\",\"colorbar\":{\"outlinewidth\":0,\"ticks\":\"\"}}],\"histogram2d\":[{\"type\":\"histogram2d\",\"colorbar\":{\"outlinewidth\":0,\"ticks\":\"\"},\"colorscale\":[[0.0,\"#0d0887\"],[0.1111111111111111,\"#46039f\"],[0.2222222222222222,\"#7201a8\"],[0.3333333333333333,\"#9c179e\"],[0.4444444444444444,\"#bd3786\"],[0.5555555555555556,\"#d8576b\"],[0.6666666666666666,\"#ed7953\"],[0.7777777777777778,\"#fb9f3a\"],[0.8888888888888888,\"#fdca26\"],[1.0,\"#f0f921\"]]}],\"heatmap\":[{\"type\":\"heatmap\",\"colorbar\":{\"outlinewidth\":0,\"ticks\":\"\"},\"colorscale\":[[0.0,\"#0d0887\"],[0.1111111111111111,\"#46039f\"],[0.2222222222222222,\"#7201a8\"],[0.3333333333333333,\"#9c179e\"],[0.4444444444444444,\"#bd3786\"],[0.5555555555555556,\"#d8576b\"],[0.6666666666666666,\"#ed7953\"],[0.7777777777777778,\"#fb9f3a\"],[0.8888888888888888,\"#fdca26\"],[1.0,\"#f0f921\"]]}],\"heatmapgl\":[{\"type\":\"heatmapgl\",\"colorbar\":{\"outlinewidth\":0,\"ticks\":\"\"},\"colorscale\":[[0.0,\"#0d0887\"],[0.1111111111111111,\"#46039f\"],[0.2222222222222222,\"#7201a8\"],[0.3333333333333333,\"#9c179e\"],[0.4444444444444444,\"#bd3786\"],[0.5555555555555556,\"#d8576b\"],[0.6666666666666666,\"#ed7953\"],[0.7777777777777778,\"#fb9f3a\"],[0.8888888888888888,\"#fdca26\"],[1.0,\"#f0f921\"]]}],\"contourcarpet\":[{\"type\":\"contourcarpet\",\"colorbar\":{\"outlinewidth\":0,\"ticks\":\"\"}}],\"contour\":[{\"type\":\"contour\",\"colorbar\":{\"outlinewidth\":0,\"ticks\":\"\"},\"colorscale\":[[0.0,\"#0d0887\"],[0.1111111111111111,\"#46039f\"],[0.2222222222222222,\"#7201a8\"],[0.3333333333333333,\"#9c179e\"],[0.4444444444444444,\"#bd3786\"],[0.5555555555555556,\"#d8576b\"],[0.6666666666666666,\"#ed7953\"],[0.7777777777777778,\"#fb9f3a\"],[0.8888888888888888,\"#fdca26\"],[1.0,\"#f0f921\"]]}],\"surface\":[{\"type\":\"surface\",\"colorbar\":{\"outlinewidth\":0,\"ticks\":\"\"},\"colorscale\":[[0.0,\"#0d0887\"],[0.1111111111111111,\"#46039f\"],[0.2222222222222222,\"#7201a8\"],[0.3333333333333333,\"#9c179e\"],[0.4444444444444444,\"#bd3786\"],[0.5555555555555556,\"#d8576b\"],[0.6666666666666666,\"#ed7953\"],[0.7777777777777778,\"#fb9f3a\"],[0.8888888888888888,\"#fdca26\"],[1.0,\"#f0f921\"]]}],\"mesh3d\":[{\"type\":\"mesh3d\",\"colorbar\":{\"outlinewidth\":0,\"ticks\":\"\"}}],\"scatter\":[{\"fillpattern\":{\"fillmode\":\"overlay\",\"size\":10,\"solidity\":0.2},\"type\":\"scatter\"}],\"parcoords\":[{\"type\":\"parcoords\",\"line\":{\"colorbar\":{\"outlinewidth\":0,\"ticks\":\"\"}}}],\"scatterpolargl\":[{\"type\":\"scatterpolargl\",\"marker\":{\"colorbar\":{\"outlinewidth\":0,\"ticks\":\"\"}}}],\"bar\":[{\"error_x\":{\"color\":\"#2a3f5f\"},\"error_y\":{\"color\":\"#2a3f5f\"},\"marker\":{\"line\":{\"color\":\"#E5ECF6\",\"width\":0.5},\"pattern\":{\"fillmode\":\"overlay\",\"size\":10,\"solidity\":0.2}},\"type\":\"bar\"}],\"scattergeo\":[{\"type\":\"scattergeo\",\"marker\":{\"colorbar\":{\"outlinewidth\":0,\"ticks\":\"\"}}}],\"scatterpolar\":[{\"type\":\"scatterpolar\",\"marker\":{\"colorbar\":{\"outlinewidth\":0,\"ticks\":\"\"}}}],\"histogram\":[{\"marker\":{\"pattern\":{\"fillmode\":\"overlay\",\"size\":10,\"solidity\":0.2}},\"type\":\"histogram\"}],\"scattergl\":[{\"type\":\"scattergl\",\"marker\":{\"colorbar\":{\"outlinewidth\":0,\"ticks\":\"\"}}}],\"scatter3d\":[{\"type\":\"scatter3d\",\"line\":{\"colorbar\":{\"outlinewidth\":0,\"ticks\":\"\"}},\"marker\":{\"colorbar\":{\"outlinewidth\":0,\"ticks\":\"\"}}}],\"scattermapbox\":[{\"type\":\"scattermapbox\",\"marker\":{\"colorbar\":{\"outlinewidth\":0,\"ticks\":\"\"}}}],\"scatterternary\":[{\"type\":\"scatterternary\",\"marker\":{\"colorbar\":{\"outlinewidth\":0,\"ticks\":\"\"}}}],\"scattercarpet\":[{\"type\":\"scattercarpet\",\"marker\":{\"colorbar\":{\"outlinewidth\":0,\"ticks\":\"\"}}}],\"carpet\":[{\"aaxis\":{\"endlinecolor\":\"#2a3f5f\",\"gridcolor\":\"white\",\"linecolor\":\"white\",\"minorgridcolor\":\"white\",\"startlinecolor\":\"#2a3f5f\"},\"baxis\":{\"endlinecolor\":\"#2a3f5f\",\"gridcolor\":\"white\",\"linecolor\":\"white\",\"minorgridcolor\":\"white\",\"startlinecolor\":\"#2a3f5f\"},\"type\":\"carpet\"}],\"table\":[{\"cells\":{\"fill\":{\"color\":\"#EBF0F8\"},\"line\":{\"color\":\"white\"}},\"header\":{\"fill\":{\"color\":\"#C8D4E3\"},\"line\":{\"color\":\"white\"}},\"type\":\"table\"}],\"barpolar\":[{\"marker\":{\"line\":{\"color\":\"#E5ECF6\",\"width\":0.5},\"pattern\":{\"fillmode\":\"overlay\",\"size\":10,\"solidity\":0.2}},\"type\":\"barpolar\"}],\"pie\":[{\"automargin\":true,\"type\":\"pie\"}]},\"layout\":{\"autotypenumbers\":\"strict\",\"colorway\":[\"#636efa\",\"#EF553B\",\"#00cc96\",\"#ab63fa\",\"#FFA15A\",\"#19d3f3\",\"#FF6692\",\"#B6E880\",\"#FF97FF\",\"#FECB52\"],\"font\":{\"color\":\"#2a3f5f\"},\"hovermode\":\"closest\",\"hoverlabel\":{\"align\":\"left\"},\"paper_bgcolor\":\"white\",\"plot_bgcolor\":\"#E5ECF6\",\"polar\":{\"bgcolor\":\"#E5ECF6\",\"angularaxis\":{\"gridcolor\":\"white\",\"linecolor\":\"white\",\"ticks\":\"\"},\"radialaxis\":{\"gridcolor\":\"white\",\"linecolor\":\"white\",\"ticks\":\"\"}},\"ternary\":{\"bgcolor\":\"#E5ECF6\",\"aaxis\":{\"gridcolor\":\"white\",\"linecolor\":\"white\",\"ticks\":\"\"},\"baxis\":{\"gridcolor\":\"white\",\"linecolor\":\"white\",\"ticks\":\"\"},\"caxis\":{\"gridcolor\":\"white\",\"linecolor\":\"white\",\"ticks\":\"\"}},\"coloraxis\":{\"colorbar\":{\"outlinewidth\":0,\"ticks\":\"\"}},\"colorscale\":{\"sequential\":[[0.0,\"#0d0887\"],[0.1111111111111111,\"#46039f\"],[0.2222222222222222,\"#7201a8\"],[0.3333333333333333,\"#9c179e\"],[0.4444444444444444,\"#bd3786\"],[0.5555555555555556,\"#d8576b\"],[0.6666666666666666,\"#ed7953\"],[0.7777777777777778,\"#fb9f3a\"],[0.8888888888888888,\"#fdca26\"],[1.0,\"#f0f921\"]],\"sequentialminus\":[[0.0,\"#0d0887\"],[0.1111111111111111,\"#46039f\"],[0.2222222222222222,\"#7201a8\"],[0.3333333333333333,\"#9c179e\"],[0.4444444444444444,\"#bd3786\"],[0.5555555555555556,\"#d8576b\"],[0.6666666666666666,\"#ed7953\"],[0.7777777777777778,\"#fb9f3a\"],[0.8888888888888888,\"#fdca26\"],[1.0,\"#f0f921\"]],\"diverging\":[[0,\"#8e0152\"],[0.1,\"#c51b7d\"],[0.2,\"#de77ae\"],[0.3,\"#f1b6da\"],[0.4,\"#fde0ef\"],[0.5,\"#f7f7f7\"],[0.6,\"#e6f5d0\"],[0.7,\"#b8e186\"],[0.8,\"#7fbc41\"],[0.9,\"#4d9221\"],[1,\"#276419\"]]},\"xaxis\":{\"gridcolor\":\"white\",\"linecolor\":\"white\",\"ticks\":\"\",\"title\":{\"standoff\":15},\"zerolinecolor\":\"white\",\"automargin\":true,\"zerolinewidth\":2},\"yaxis\":{\"gridcolor\":\"white\",\"linecolor\":\"white\",\"ticks\":\"\",\"title\":{\"standoff\":15},\"zerolinecolor\":\"white\",\"automargin\":true,\"zerolinewidth\":2},\"scene\":{\"xaxis\":{\"backgroundcolor\":\"#E5ECF6\",\"gridcolor\":\"white\",\"linecolor\":\"white\",\"showbackground\":true,\"ticks\":\"\",\"zerolinecolor\":\"white\",\"gridwidth\":2},\"yaxis\":{\"backgroundcolor\":\"#E5ECF6\",\"gridcolor\":\"white\",\"linecolor\":\"white\",\"showbackground\":true,\"ticks\":\"\",\"zerolinecolor\":\"white\",\"gridwidth\":2},\"zaxis\":{\"backgroundcolor\":\"#E5ECF6\",\"gridcolor\":\"white\",\"linecolor\":\"white\",\"showbackground\":true,\"ticks\":\"\",\"zerolinecolor\":\"white\",\"gridwidth\":2}},\"shapedefaults\":{\"line\":{\"color\":\"#2a3f5f\"}},\"annotationdefaults\":{\"arrowcolor\":\"#2a3f5f\",\"arrowhead\":0,\"arrowwidth\":1},\"geo\":{\"bgcolor\":\"white\",\"landcolor\":\"#E5ECF6\",\"subunitcolor\":\"white\",\"showland\":true,\"showlakes\":true,\"lakecolor\":\"white\"},\"title\":{\"x\":0.05},\"mapbox\":{\"style\":\"light\"}}},\"scene\":{\"domain\":{\"x\":[0.0,1.0],\"y\":[0.0,1.0]},\"xaxis\":{\"title\":{\"text\":\"x\"}},\"yaxis\":{\"title\":{\"text\":\"y\"}},\"zaxis\":{\"title\":{\"text\":\"z\"}}},\"coloraxis\":{\"colorbar\":{\"title\":{\"text\":\"color\"}},\"colorscale\":[[0.0,\"#0d0887\"],[0.1111111111111111,\"#46039f\"],[0.2222222222222222,\"#7201a8\"],[0.3333333333333333,\"#9c179e\"],[0.4444444444444444,\"#bd3786\"],[0.5555555555555556,\"#d8576b\"],[0.6666666666666666,\"#ed7953\"],[0.7777777777777778,\"#fb9f3a\"],[0.8888888888888888,\"#fdca26\"],[1.0,\"#f0f921\"]]},\"legend\":{\"tracegroupgap\":0},\"margin\":{\"t\":0,\"l\":0,\"r\":0,\"b\":0},\"height\":400,\"width\":800},                        {\"responsive\": true}                    ).then(function(){\n",
              "                            \n",
              "var gd = document.getElementById('d0f98f72-2b10-4e6a-a026-df3a16ded404');\n",
              "var x = new MutationObserver(function (mutations, observer) {{\n",
              "        var display = window.getComputedStyle(gd).display;\n",
              "        if (!display || display === 'none') {{\n",
              "            console.log([gd, 'removed!']);\n",
              "            Plotly.purge(gd);\n",
              "            observer.disconnect();\n",
              "        }}\n",
              "}});\n",
              "\n",
              "// Listen for the removal of the full notebook cells\n",
              "var notebookContainer = gd.closest('#notebook-container');\n",
              "if (notebookContainer) {{\n",
              "    x.observe(notebookContainer, {childList: true});\n",
              "}}\n",
              "\n",
              "// Listen for the clearing of the current output cell\n",
              "var outputEl = gd.closest('.output');\n",
              "if (outputEl) {{\n",
              "    x.observe(outputEl, {childList: true});\n",
              "}}\n",
              "\n",
              "                        })                };                            </script>        </div>\n",
              "</body>\n",
              "</html>"
            ]
          },
          "metadata": {}
        }
      ]
    },
    {
      "cell_type": "code",
      "source": [
        "def predict(centroids, X_test):\n",
        "    dist_test = distance.cdist(X_test, centroids)\n",
        "    test_labels = assign_cluster(dist_test)\n",
        "    return test_labels\n",
        "\n",
        "test_point = np.array([9.1, 7.8, 1.2, 11.5, 127, 3.51, 2.01, 0.7, 2.29, 5.64, 1.04, 3.92, 2531]).reshape(1,-1) # reshape from (d,) to (1, d)\n",
        "test_point"
      ],
      "metadata": {
        "colab": {
          "base_uri": "https://localhost:8080/"
        },
        "id": "kDF7wuToXX80",
        "outputId": "12d35997-ffd5-44d5-f577-132f7161bbb5"
      },
      "execution_count": 32,
      "outputs": [
        {
          "output_type": "execute_result",
          "data": {
            "text/plain": [
              "array([[9.100e+00, 7.800e+00, 1.200e+00, 1.150e+01, 1.270e+02, 3.510e+00,\n",
              "        2.010e+00, 7.000e-01, 2.290e+00, 5.640e+00, 1.040e+00, 3.920e+00,\n",
              "        2.531e+03]])"
            ]
          },
          "metadata": {},
          "execution_count": 32
        }
      ]
    },
    {
      "cell_type": "code",
      "source": [
        "print(\"Test point is belong to cluster {}\".format(predict(centroids, test_point)))"
      ],
      "metadata": {
        "colab": {
          "base_uri": "https://localhost:8080/"
        },
        "id": "Jqa_pqfJa59X",
        "outputId": "94005398-331e-42be-9b8c-ee41a9ef55da"
      },
      "execution_count": 33,
      "outputs": [
        {
          "output_type": "stream",
          "name": "stdout",
          "text": [
            "Test point is belong to cluster [1]\n"
          ]
        }
      ]
    },
    {
      "cell_type": "code",
      "source": [],
      "metadata": {
        "id": "upmdd_fMtCmJ"
      },
      "execution_count": null,
      "outputs": []
    }
  ]
}